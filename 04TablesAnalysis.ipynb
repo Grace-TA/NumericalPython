{
 "cells": [
  {
   "cell_type": "markdown",
   "metadata": {
    "id": "IydfPV4sm89N"
   },
   "source": [
    "<a href=\"https://colab.research.google.com/github/weymouth/NumericalPython/blob/main/04TablesAnalysis.ipynb\" target=\"_parent\"><img src=\"https://colab.research.google.com/assets/colab-badge.svg\" alt=\"Open In Colab\"/></a>"
   ]
  },
  {
   "cell_type": "markdown",
   "metadata": {
    "id": "IydfPV4sm89N"
   },
   "source": [
    "# Data Tables and Analysis Functions\n",
    "\n",
    "Congratulations! In the previous 3 notebooks we have covered the fundamentals of numerical computing with Python\n",
    " - Variables, operations and functions\n",
    " - Conditionals, lists and looping\n",
    " - Arrays, vector operations and plotting\n",
    "\n",
    "Plus some handy concepts like print formating, list comprehensions and lamda functions to keep your code tidy and efficient.\n",
    "\n",
    "For this final notebook we will look at two more advanced topics which nevertheless occur frequently in practice:\n",
    "1. Reading, manipulating, and writing data \n",
    "2. Using advanced built in operations such as optimization, integration, and root finding. \n",
    "\n",
    "These topics will be covered in more detail in your modules, so we will only touch on them briefly here. \n",
    "\n",
    "---\n",
    "\n",
    "example using a [data frame](https://pandas.pydata.org/pandas-docs/stable/user_guide/dsintro.html) to create and store a set of measurements with some random noise added on. "
   ]
  },
  {
   "cell_type": "code",
   "execution_count": null,
   "metadata": {
    "colab": {
     "base_uri": "https://localhost:8080/",
     "height": 204
    },
    "id": "bbCeS35Bmc6V",
    "outputId": "b0367351-42ba-487a-fccb-42c9bce7df9d"
   },
   "outputs": [],
   "source": [
    "import matplotlib.pyplot as plt\n",
    "import numpy as np\n",
    "import pandas as pd\n",
    "\n",
    "data = pd.DataFrame({'time':np.linspace(0,2)})\n",
    "data['y perfect'] = np.exp(1)+np.pi*data.time\n",
    "data['y'] = data['y perfect']+np.random.normal(size=len(data.time))\n",
    "data.head()"
   ]
  },
  {
   "cell_type": "code",
   "execution_count": null,
   "metadata": {
    "colab": {
     "base_uri": "https://localhost:8080/",
     "height": 297
    },
    "id": "2-EahoVLmu95",
    "outputId": "5b8f96f0-758a-4bbc-8870-c7f748fb987a"
   },
   "outputs": [],
   "source": [
    "data.describe()"
   ]
  },
  {
   "cell_type": "code",
   "execution_count": null,
   "metadata": {
    "colab": {
     "base_uri": "https://localhost:8080/",
     "height": 279
    },
    "id": "lbSne63UmlWv",
    "outputId": "d96ac8f6-d7fd-42c2-abec-562635fcaafb"
   },
   "outputs": [],
   "source": [
    "data.plot(x='time');"
   ]
  },
  {
   "cell_type": "markdown",
   "metadata": {
    "id": "iWEVP8vUnfmv"
   },
   "source": [
    "Typically, we only have access to the noisey measurments, not the true model. We can use the [curve_fit](https://docs.scipy.org/doc/scipy/reference/generated/scipy.optimize.curve_fit.html) function to fit a `linear` model function to this data."
   ]
  },
  {
   "cell_type": "code",
   "execution_count": null,
   "metadata": {
    "colab": {
     "base_uri": "https://localhost:8080/"
    },
    "id": "vfbrXNqhmc6X",
    "outputId": "dfc313c8-f4ad-4e3c-e6d7-797c98c53c02"
   },
   "outputs": [],
   "source": [
    "from scipy.optimize import curve_fit\n",
    "def linear(x,m,b): return m*x+b\n",
    "params,_ = curve_fit(linear,data.time,data.y)\n",
    "params"
   ]
  },
  {
   "cell_type": "code",
   "execution_count": null,
   "metadata": {
    "colab": {
     "base_uri": "https://localhost:8080/",
     "height": 279
    },
    "id": "BJmbgRzUmc6Y",
    "outputId": "c076bb55-3e96-4f6a-9c50-d169891320a1"
   },
   "outputs": [],
   "source": [
    "data['y fit'] = linear(data.time,*params)\n",
    "data.plot(x='time');"
   ]
  },
  {
   "cell_type": "markdown",
   "metadata": {
    "id": "-GVqHcGzn-h3"
   },
   "source": [
    "Since the true model happend to be a linear model, the curve fit is nearly perfect! "
   ]
  },
  {
   "cell_type": "code",
   "execution_count": null,
   "metadata": {
    "id": "dfwGLtMfm7Up"
   },
   "outputs": [],
   "source": []
  }
 ],
 "metadata": {
  "colab": {
   "include_colab_link": true,
   "name": "DataFrameCurveFitExample.ipynb",
   "provenance": []
  },
  "kernelspec": {
   "display_name": "Python 3",
   "language": "python",
   "name": "python3"
  },
  "language_info": {
   "codemirror_mode": {
    "name": "ipython",
    "version": 3
   },
   "file_extension": ".py",
   "mimetype": "text/x-python",
   "name": "python",
   "nbconvert_exporter": "python",
   "pygments_lexer": "ipython3",
   "version": "3.6.10"
  }
 },
 "nbformat": 4,
 "nbformat_minor": 1
}
