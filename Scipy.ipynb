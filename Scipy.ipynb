{
 "cells": [
  {
   "cell_type": "markdown",
   "metadata": {
    "id": "IydfPV4sm89N"
   },
   "source": [
    "<a href=\"https://colab.research.google.com/github/weymouth/NumericalPython/blob/main/Scipy.ipynb\" target=\"_parent\"><img src=\"https://colab.research.google.com/assets/colab-badge.svg\" alt=\"Open In Colab\"/></a>"
   ]
  },
  {
   "cell_type": "markdown",
   "metadata": {
    "id": "iWEVP8vUnfmv"
   },
   "source": [
    "# SciPy\n",
    "\n",
    "Congratulations! In the previous 3 notebooks we have covered the fundamentals of numerical computing with Python\n",
    " - Variables, operations and functions\n",
    " - Conditionals, lists and looping\n",
    " - Arrays, vector operations and plotting\n",
    "\n",
    "Plus some handy concepts like print formating, list comprehensions and lamda functions to keep your code tidy and efficient.\n",
    "\n",
    "For the final tutorial notebooks we will look at specialized Python libraries which are often useful in practise.\n",
    "These topics are covered in more detail in walk-throughs online, so we will only give an overview here and link to more complete tutorials. \n",
    "\n",
    "Typically, we only have access to the noisy measurements, not the true model. We can use the [curve_fit](https://docs.scipy.org/doc/scipy/reference/generated/scipy.optimize.curve_fit.html) function to fit a `linear` model function to this data."
   ]
  },
  {
   "cell_type": "code",
   "execution_count": null,
   "metadata": {
    "colab": {
     "base_uri": "https://localhost:8080/"
    },
    "id": "vfbrXNqhmc6X",
    "outputId": "dfc313c8-f4ad-4e3c-e6d7-797c98c53c02"
   },
   "outputs": [],
   "source": [
    "from scipy.optimize import curve_fit\n",
    "def linear(x,m,b): return m*x+b\n",
    "params,_ = curve_fit(linear,data.time,data.y)\n",
    "params"
   ]
  },
  {
   "cell_type": "code",
   "execution_count": null,
   "metadata": {
    "colab": {
     "base_uri": "https://localhost:8080/",
     "height": 279
    },
    "id": "BJmbgRzUmc6Y",
    "outputId": "c076bb55-3e96-4f6a-9c50-d169891320a1"
   },
   "outputs": [],
   "source": [
    "data['y fit'] = linear(data.time,*params)\n",
    "data.plot(x='time');"
   ]
  },
  {
   "cell_type": "markdown",
   "metadata": {
    "id": "-GVqHcGzn-h3"
   },
   "source": [
    "Since the true model happend to be a linear model, the curve fit is nearly perfect! "
   ]
  },
  {
   "cell_type": "code",
   "execution_count": null,
   "metadata": {
    "id": "dfwGLtMfm7Up"
   },
   "outputs": [],
   "source": []
  }
 ],
 "metadata": {
  "colab": {
   "include_colab_link": true,
   "name": "DataFrameCurveFitExample.ipynb",
   "provenance": []
  },
  "kernelspec": {
   "display_name": "Python 3",
   "language": "python",
   "name": "python3"
  },
  "language_info": {
   "codemirror_mode": {
    "name": "ipython",
    "version": 3
   },
   "file_extension": ".py",
   "mimetype": "text/x-python",
   "name": "python",
   "nbconvert_exporter": "python",
   "pygments_lexer": "ipython3",
   "version": "3.6.0"
  }
 },
 "nbformat": 4,
 "nbformat_minor": 1
}
