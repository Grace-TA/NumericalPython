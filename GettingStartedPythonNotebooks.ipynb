{
  "nbformat": 4,
  "nbformat_minor": 0,
  "metadata": {
    "kernelspec": {
      "display_name": "Python 3",
      "language": "python",
      "name": "python3"
    },
    "language_info": {
      "codemirror_mode": {
        "name": "ipython",
        "version": 3
      },
      "file_extension": ".py",
      "mimetype": "text/x-python",
      "name": "python",
      "nbconvert_exporter": "python",
      "pygments_lexer": "ipython3",
      "version": "3.6.10"
    },
    "colab": {
      "name": "GettingStartedPythonNotebooks.ipynb",
      "provenance": [],
      "collapsed_sections": [],
      "include_colab_link": true
    }
  },
  "cells": [
    {
      "cell_type": "markdown",
      "metadata": {
        "id": "view-in-github",
        "colab_type": "text"
      },
      "source": [
        "<a href=\"https://colab.research.google.com/github/weymouth/NumericalPython/blob/main/GettingStartedPythonNotebooks.ipynb\" target=\"_parent\"><img src=\"https://colab.research.google.com/assets/colab-badge.svg\" alt=\"Open In Colab\"/></a>"
      ]
    },
    {
      "cell_type": "markdown",
      "metadata": {
        "id": "umNbE5lyd6bT"
      },
      "source": [
        "# Getting Started with Python Notebooks\n"
      ]
    },
    {
      "cell_type": "markdown",
      "metadata": {
        "id": "ozUUhZEZd6bT"
      },
      "source": [
        "**Hello**! Numerical programming is becoming a key skill for modern engineers and you will need to use Python in some of your modules for labs and coursework. This is a quick introduction to numerical programming in [Python](https://www.python.org/) to help you get started. "
      ]
    },
    {
      "cell_type": "markdown",
      "metadata": {
        "id": "xk7BbJKJd6bT"
      },
      "source": [
        "## Jupyter notebooks\n",
        "\n",
        "This is a [Jupyter](https://jupyter.org/) notebook. A notebook is a series of cells, which contain either markdown text, or python code. You can use the toolbar at the top to change between the two. Double click on this cell to see the markdown text. Click play on the toolbar, or shift+return, to render it.\n",
        "\n",
        "Markdown lets you write simple text (for your discussions), but it also lets you write equations $\\frac{d}{dt}(mv)=\\sum f$, embed [links](http://jupyter-notebook.readthedocs.io/en/latest/examples/Notebook/Working%20With%20Markdown%20Cells.html) ,and display images \n",
        "\n",
        "![Jupyter logo](https://upload.wikimedia.org/wikipedia/commons/thumb/3/38/Jupyter_logo.svg/250px-Jupyter_logo.svg.png)\n",
        "\n",
        "I'll review the python language below, but as far as the notebook element of coding, the most import thing is that the cells don't run in order automatically. So #1 tip is: **Make sure to restart the kernel and `Run all` cells in the notebook frequently.** That will avoid unpleasant surprises."
      ]
    },
    {
      "cell_type": "markdown",
      "metadata": {
        "id": "2C2W2YcHfbUO"
      },
      "source": [
        "## Online versus local \n",
        "I've put a copy of this notebook on [google colab](https://research.google.com/colaboratory/faq.html) so you can run it using your web-browser. This is extremely convienient, but there are advantages to running notebooks on your own machine. To do this, you need to download the `ipynb` file and [install Anaconda](https://docs.anaconda.com/anaconda/install/). This will install `Python 3` on your machine and the `jupyter` notebook environment, letting you run the notebooks locally."
      ]
    },
    {
      "cell_type": "markdown",
      "metadata": {
        "id": "GUcNDFwDd6bT"
      },
      "source": [
        "## Libraries"
      ]
    },
    {
      "cell_type": "markdown",
      "metadata": {
        "id": "R-yIbyvJd6bT"
      },
      "source": [
        "Python is a high-level open-source language.  But the *Python world* is inhabited by many packages or libraries that provide useful things like array operations, plotting functions, and much more. We can import libraries of functions to expand the capabilities of Python in our programs.  \n",
        "\n",
        "OK! We'll start by importing a few libraries to help us out. First: our favorite library is **NumPy**, providing a bunch of useful array operations. The second library we need is **Matplotlib**, a 2D plotting library which we will use to plot our results. \n",
        "\n",
        "The following code will be at the top of most of your programs, so execute this cell first:"
      ]
    },
    {
      "cell_type": "code",
      "metadata": {
        "id": "ZPgxgramd6bT"
      },
      "source": [
        "# <-- comments in python are denoted by the pound sign, like this one\n",
        "\n",
        "import numpy as np                     # we import the array library\n",
        "from matplotlib import pyplot as plt   # import plotting library"
      ],
      "execution_count": null,
      "outputs": []
    },
    {
      "cell_type": "markdown",
      "metadata": {
        "id": "l9fnWKIQd6bT"
      },
      "source": [
        "We are importing one library named `numpy` and we are importing a module called `pyplot` of a big library called `matplotlib`. We also giving each of these short nicknames, `np` and `plt` so we can reference them quickly.\n",
        "\n",
        "To use a function belonging to one of these libraries, we have to tell Python where to look for it. For that, each function name is written following the library name, with a dot in between. \n",
        "\n",
        "So if we want to use the NumPy function [`linspace()`](http://docs.scipy.org/doc/numpy/reference/generated/numpy.linspace.html), which creates an array with equally spaced numbers between a start and end, we call it by writing:"
      ]
    },
    {
      "cell_type": "code",
      "metadata": {
        "id": "_t7V7OSrd6bT",
        "outputId": "05e2392d-8aa0-4d53-cefd-d1a31c318f7a"
      },
      "source": [
        "myarray = np.linspace(0, 4, 21)\n",
        "print(myarray)"
      ],
      "execution_count": null,
      "outputs": [
        {
          "output_type": "stream",
          "text": [
            "[0.  0.2 0.4 0.6 0.8 1.  1.2 1.4 1.6 1.8 2.  2.2 2.4 2.6 2.8 3.  3.2 3.4\n",
            " 3.6 3.8 4. ]\n"
          ],
          "name": "stdout"
        }
      ]
    },
    {
      "cell_type": "markdown",
      "metadata": {
        "id": "xPxsZlNJd6bU"
      },
      "source": [
        "If we *don't* preface the `linspace()` function with `numpy`, **Python will throw an error**, because it doesn't know where to find this function. Try it:"
      ]
    },
    {
      "cell_type": "code",
      "metadata": {
        "id": "_4q5Rlx3d6bU",
        "outputId": "a4fcef7c-54f5-4a4b-b819-0d1a4f1612ba"
      },
      "source": [
        "linspace(0, 4, 21)"
      ],
      "execution_count": null,
      "outputs": [
        {
          "output_type": "error",
          "ename": "NameError",
          "evalue": "name 'linspace' is not defined",
          "traceback": [
            "\u001b[1;31m---------------------------------------------------------------------------\u001b[0m",
            "\u001b[1;31mNameError\u001b[0m                                 Traceback (most recent call last)",
            "\u001b[1;32m<ipython-input-3-7e12f433ba66>\u001b[0m in \u001b[0;36m<module>\u001b[1;34m\u001b[0m\n\u001b[1;32m----> 1\u001b[1;33m \u001b[0mlinspace\u001b[0m\u001b[1;33m(\u001b[0m\u001b[1;36m0\u001b[0m\u001b[1;33m,\u001b[0m \u001b[1;36m4\u001b[0m\u001b[1;33m,\u001b[0m \u001b[1;36m21\u001b[0m\u001b[1;33m)\u001b[0m\u001b[1;33m\u001b[0m\u001b[1;33m\u001b[0m\u001b[0m\n\u001b[0m",
            "\u001b[1;31mNameError\u001b[0m: name 'linspace' is not defined"
          ]
        }
      ]
    },
    {
      "cell_type": "markdown",
      "metadata": {
        "id": "0gw_5dZLd6bW"
      },
      "source": [
        "The function [`linspace`()](http://docs.scipy.org/doc/numpy/reference/generated/numpy.linspace.html) is very useful. Try it changing the input parameters! You can also look at the documentation either by [searching online](https://lmgtfy.com/?q=numpy+linspace) or by typing `? np.linspace` or using the `help()` function. Try it out!\n",
        "\n",
        "To learn new functions available to you, visit the [NumPy Reference](http://docs.scipy.org/doc/numpy/reference/) page, or google `numpy + [whatever you want to do]`."
      ]
    },
    {
      "cell_type": "markdown",
      "metadata": {
        "id": "Pp-tpCmAd6bW"
      },
      "source": [
        "## Variables"
      ]
    },
    {
      "cell_type": "markdown",
      "metadata": {
        "id": "vNcd5wzHd6bW"
      },
      "source": [
        "Python doesn't require explicitly declared variable types, like C and other languages do. Just assign a variable and Python understands what you want:"
      ]
    },
    {
      "cell_type": "code",
      "metadata": {
        "id": "5blI8MIRd6bW"
      },
      "source": [
        "a = 5      # a is an integer 5\n",
        "b = 'five' # b is a string of the word 'five'\n",
        "c = 5.0    # c is a floating point 5  "
      ],
      "execution_count": null,
      "outputs": []
    },
    {
      "cell_type": "markdown",
      "metadata": {
        "id": "Tx4eG9sOd6bW"
      },
      "source": [
        "Ask Python to tell you what type it has assigned to a given variable name like this:"
      ]
    },
    {
      "cell_type": "code",
      "metadata": {
        "id": "QUy5tSUWd6bW",
        "outputId": "bbdb2223-3d4e-4a3a-a5e5-4388ba3f81a3"
      },
      "source": [
        "type(a), type(b), type(c)"
      ],
      "execution_count": null,
      "outputs": [
        {
          "output_type": "execute_result",
          "data": {
            "text/plain": [
              "(int, str, float)"
            ]
          },
          "metadata": {
            "tags": []
          },
          "execution_count": 10
        }
      ]
    },
    {
      "cell_type": "markdown",
      "metadata": {
        "id": "UHO4JaEZd6bX"
      },
      "source": [
        "## Whitespace in Python"
      ]
    },
    {
      "cell_type": "markdown",
      "metadata": {
        "id": "tleHMdv5d6bX"
      },
      "source": [
        "Python uses indents and whitespace to group statements together.  "
      ]
    },
    {
      "cell_type": "code",
      "metadata": {
        "id": "nAxFcm1id6bX",
        "outputId": "17eddcdd-7960-4768-ecb2-1c2ea77809cf"
      },
      "source": [
        "for i in range(5):\n",
        "    print(\"Hi\")"
      ],
      "execution_count": null,
      "outputs": [
        {
          "output_type": "stream",
          "text": [
            "Hi\n",
            "Hi\n",
            "Hi\n",
            "Hi\n",
            "Hi\n"
          ],
          "name": "stdout"
        }
      ]
    },
    {
      "cell_type": "markdown",
      "metadata": {
        "id": "tGxaQmhbd6bX"
      },
      "source": [
        "Did you notice the [`range()`](http://docs.python.org/release/1.5.1p1/tut/range.html) function? It is a neat built-in function of Python that gives you a list from an arithmetic progression.\n",
        "\n",
        "If you have nested `for` loops, there is a further indent for the inner loop, like this:"
      ]
    },
    {
      "cell_type": "code",
      "metadata": {
        "id": "xLHS3Dpod6bX",
        "outputId": "f22a81af-45ac-40d3-f2bf-6c3eacbbdfda"
      },
      "source": [
        "for i in range(3):\n",
        "    for j in range(3):\n",
        "        print(i, j)\n",
        "    \n",
        "    print(\"This statement is within the i-loop, but not the j-loop\")"
      ],
      "execution_count": null,
      "outputs": [
        {
          "output_type": "stream",
          "text": [
            "0 0\n",
            "0 1\n",
            "0 2\n",
            "This statement is within the i-loop, but not the j-loop\n",
            "1 0\n",
            "1 1\n",
            "1 2\n",
            "This statement is within the i-loop, but not the j-loop\n",
            "2 0\n",
            "2 1\n",
            "2 2\n",
            "This statement is within the i-loop, but not the j-loop\n"
          ],
          "name": "stdout"
        }
      ]
    },
    {
      "cell_type": "markdown",
      "metadata": {
        "id": "o-OG7gmxd6bX"
      },
      "source": [
        "## Slicing arrays"
      ]
    },
    {
      "cell_type": "markdown",
      "metadata": {
        "id": "Byh3nbDvd6bX"
      },
      "source": [
        "In NumPy, you can look at portions of arrays in the same way as in MATLAB, with a few extra tricks thrown in.  Let's take an array of values from 1 to 5:"
      ]
    },
    {
      "cell_type": "code",
      "metadata": {
        "id": "GrZ1eEuId6bY",
        "outputId": "22dcb4e3-a5e2-407b-a66f-15447442fb2a"
      },
      "source": [
        "a = np.array([1, 2, 3, 4, 5])\n",
        "a"
      ],
      "execution_count": null,
      "outputs": [
        {
          "output_type": "execute_result",
          "data": {
            "text/plain": [
              "array([1, 2, 3, 4, 5])"
            ]
          },
          "metadata": {
            "tags": []
          },
          "execution_count": 14
        }
      ]
    },
    {
      "cell_type": "markdown",
      "metadata": {
        "id": "deJkn8LJd6bY"
      },
      "source": [
        "Python uses a **zero-based index** (like C), which is [a good thing](http://www.cs.utexas.edu/~EWD/transcriptions/EWD08xx/EWD831.html). Knowing this, let's look at the first and last element in the array we have created above,"
      ]
    },
    {
      "cell_type": "code",
      "metadata": {
        "id": "vH-oXsjLd6bY",
        "outputId": "0fecebd1-2b7d-4a88-e8be-139209bfac1a"
      },
      "source": [
        "a[0], a[4]"
      ],
      "execution_count": null,
      "outputs": [
        {
          "output_type": "execute_result",
          "data": {
            "text/plain": [
              "(1, 5)"
            ]
          },
          "metadata": {
            "tags": []
          },
          "execution_count": 15
        }
      ]
    },
    {
      "cell_type": "markdown",
      "metadata": {
        "id": "9z2y9CLwd6bY"
      },
      "source": [
        "There are 5 elements in the array, but if we try to look at `a[5]`, Python will be unhappy and **throw an error**, as it is actually looking for the non-existent 6th element of that array."
      ]
    },
    {
      "cell_type": "code",
      "metadata": {
        "id": "f-nOxBjFd6bY",
        "outputId": "440f8f99-2191-4685-a8f2-1158d03f2d09"
      },
      "source": [
        "a[5]"
      ],
      "execution_count": null,
      "outputs": [
        {
          "output_type": "error",
          "ename": "IndexError",
          "evalue": "index 5 is out of bounds for axis 0 with size 5",
          "traceback": [
            "\u001b[1;31m---------------------------------------------------------------------------\u001b[0m",
            "\u001b[1;31mIndexError\u001b[0m                                Traceback (most recent call last)",
            "\u001b[1;32m<ipython-input-16-4a84d856522b>\u001b[0m in \u001b[0;36m<module>\u001b[1;34m\u001b[0m\n\u001b[1;32m----> 1\u001b[1;33m \u001b[0ma\u001b[0m\u001b[1;33m[\u001b[0m\u001b[1;36m5\u001b[0m\u001b[1;33m]\u001b[0m\u001b[1;33m\u001b[0m\u001b[1;33m\u001b[0m\u001b[0m\n\u001b[0m",
            "\u001b[1;31mIndexError\u001b[0m: index 5 is out of bounds for axis 0 with size 5"
          ]
        }
      ]
    },
    {
      "cell_type": "markdown",
      "metadata": {
        "id": "LP4NbX6Dd6bZ"
      },
      "source": [
        "Arrays can also be *sliced*, grabbing a range of values.  Let's look at the first three elements,"
      ]
    },
    {
      "cell_type": "code",
      "metadata": {
        "id": "3-mxU5jXd6bZ",
        "outputId": "09e841cb-55b0-4795-f093-526021b6b77a"
      },
      "source": [
        "a[0:3],a[3]"
      ],
      "execution_count": null,
      "outputs": [
        {
          "output_type": "execute_result",
          "data": {
            "text/plain": [
              "(array([1, 2, 3]), 4)"
            ]
          },
          "metadata": {
            "tags": []
          },
          "execution_count": 17
        }
      ]
    },
    {
      "cell_type": "markdown",
      "metadata": {
        "id": "tvGix_c8d6bZ"
      },
      "source": [
        "Note here, the slice is inclusive on the front end and exclusive on the back, so `a[0:3]` does not include the value `a[3]`.\n",
        "\n",
        "We can also reference from the end of the array using negative indices."
      ]
    },
    {
      "cell_type": "code",
      "metadata": {
        "id": "fSBEfkYad6bZ",
        "outputId": "ece6dea2-9898-47a3-a260-d0c3e41f7cd3"
      },
      "source": [
        "a[-3:-1],a[-1]"
      ],
      "execution_count": null,
      "outputs": [
        {
          "output_type": "execute_result",
          "data": {
            "text/plain": [
              "(array([3, 4]), 5)"
            ]
          },
          "metadata": {
            "tags": []
          },
          "execution_count": 18
        }
      ]
    },
    {
      "cell_type": "markdown",
      "metadata": {
        "id": "S3Zmxz4Jd6ba"
      },
      "source": [
        "## Functions\n",
        "\n",
        "The __function__ is the most useful concept in computing. It is simply a block of code that does some operations on an input. The code can change the input, and it can return an output. Functions help you by letting you write code once, and then use it as many times as you want.\n",
        "\n",
        "In python a function looks like this:"
      ]
    },
    {
      "cell_type": "code",
      "metadata": {
        "id": "KQ0ShWgsd6ba"
      },
      "source": [
        "def multiply(a,b):\n",
        "    return a*b"
      ],
      "execution_count": null,
      "outputs": []
    },
    {
      "cell_type": "markdown",
      "metadata": {
        "id": "ZJEY03aud6ba"
      },
      "source": [
        "First, there is a keyword `def` that lets python know you're defining a function. On the same line, you give the function a name, define the input arguments of the function in parenthesis and put a colon on the end. In this case the name is `multiply` and it has two inputs, `a` and `b`.\n",
        "\n",
        "Next the _body_ of the function is defined, using whitespace like in the `for` loop above. In this case we define a `c` as the product of `a` and `b`. Then we _return_ `c`, this is the function output. \n",
        "\n",
        "To use the function, we just write the name and fill in the inputs:"
      ]
    },
    {
      "cell_type": "code",
      "metadata": {
        "id": "6tNptEjcd6ba",
        "outputId": "1d92ff82-a488-4c6d-cc86-1a5dd0ac2f31"
      },
      "source": [
        "multiply(3,4)"
      ],
      "execution_count": null,
      "outputs": [
        {
          "output_type": "execute_result",
          "data": {
            "text/plain": [
              "12"
            ]
          },
          "metadata": {
            "tags": []
          },
          "execution_count": 22
        }
      ]
    },
    {
      "cell_type": "markdown",
      "metadata": {
        "id": "k4BYn7rZd6ba"
      },
      "source": [
        "When writing your own functions, the most important thing to remember is that the function should only depend on the inputs, nothing else. The multiply function is a good simple example of this. Here is a bad example:"
      ]
    },
    {
      "cell_type": "code",
      "metadata": {
        "id": "FMbmvIvyd6ba",
        "outputId": "c6d775c0-c443-4bda-da4e-ee5d15454def"
      },
      "source": [
        "def mult_bad(b):\n",
        "    c = a*b\n",
        "    return c\n",
        "\n",
        "mult_bad(3)"
      ],
      "execution_count": null,
      "outputs": [
        {
          "output_type": "execute_result",
          "data": {
            "text/plain": [
              "array([ 3,  6,  9, 12, 15])"
            ]
          },
          "metadata": {
            "tags": []
          },
          "execution_count": 23
        }
      ]
    },
    {
      "cell_type": "markdown",
      "metadata": {
        "id": "ND2sL7t9d6ba"
      },
      "source": [
        "In this example, we're using `a` without naming it as an input. This means the function uses whatever happens to be named `a`, in this case the array we named above. This kind of function is worse than useless - it will almost certainly lead you to make mistakes later. \n",
        "\n",
        "Finally, note that the simple `multiply` function we wrote will work with with numpy arrays automatically!"
      ]
    },
    {
      "cell_type": "code",
      "metadata": {
        "id": "XEiH26KRd6ba",
        "outputId": "f6df9974-3e5a-4d9c-853f-547a9297d4b1"
      },
      "source": [
        "multiply(np.sin(a),a)"
      ],
      "execution_count": null,
      "outputs": [
        {
          "output_type": "execute_result",
          "data": {
            "text/plain": [
              "array([ 0.84147098,  1.81859485,  0.42336002, -3.02720998, -4.79462137])"
            ]
          },
          "metadata": {
            "tags": []
          },
          "execution_count": 25
        }
      ]
    },
    {
      "cell_type": "markdown",
      "metadata": {
        "id": "5NsATinRd6ba"
      },
      "source": [
        "If you need more help getting a grip on functions in python, [here is a tutorial](https://en.wikibooks.org/wiki/A_Beginner%27s_Python_Tutorial/Functions). Google has [many other suggestions](http://lmgtfy.com/?q=beginner+python+functions). Keep at it until you're comfortable, because we'll use functions a lot.\n",
        "\n",
        "---"
      ]
    },
    {
      "cell_type": "markdown",
      "metadata": {
        "id": "npAgPLPwd6ba"
      },
      "source": [
        "## Plotting"
      ]
    },
    {
      "cell_type": "markdown",
      "metadata": {
        "id": "CPSLVnMTd6ba"
      },
      "source": [
        "Finally, we can use `matplotlib` to visualize numpy arrays very easily."
      ]
    },
    {
      "cell_type": "code",
      "metadata": {
        "id": "HLA30N99d6ba",
        "outputId": "5d8d5cc8-d8a4-4bcb-a59d-7ef32109daae"
      },
      "source": [
        "plt.plot(a,multiply(5,a))\n",
        "plt.xlabel('a'); plt.ylabel('5a')\n",
        "plt.show()"
      ],
      "execution_count": null,
      "outputs": [
        {
          "output_type": "display_data",
          "data": {
            "image/png": "[encoded data removed]",
            "text/plain": [
              "<Figure size 432x288 with 1 Axes>"
            ]
          },
          "metadata": {
            "tags": [],
            "needs_background": "light"
          }
        }
      ]
    },
    {
      "cell_type": "markdown",
      "metadata": {
        "id": "O7x39zRvd6ba"
      },
      "source": [
        "The problem with `matplotlib` is that there are _so many options_ . But as always, [google is your friend](https://lmgtfy.com/?q=matplotlib+histogram). "
      ]
    },
    {
      "cell_type": "code",
      "metadata": {
        "id": "6a2qewJod6ba",
        "outputId": "06df6bf9-4a9a-4d50-f4c5-a376f3438154"
      },
      "source": [
        "plt.plot(a,multiply(5,a),'o',c='black',label='data')\n",
        "plt.xlabel(r'$a$',size=12); plt.ylabel(r'$5a$',rotation=0,labelpad=12,size=12)\n",
        "plt.legend(title='legend title')\n",
        "plt.show()"
      ],
      "execution_count": null,
      "outputs": [
        {
          "output_type": "display_data",
          "data": {
            "image/png": "[encoded data removed]",
            "text/plain": [
              "<Figure size 432x288 with 1 Axes>"
            ]
          },
          "metadata": {
            "tags": [],
            "needs_background": "light"
          }
        }
      ]
    },
    {
      "cell_type": "markdown",
      "metadata": {
        "id": "Ty_pHup4d6ba"
      },
      "source": [
        "---"
      ]
    },
    {
      "cell_type": "markdown",
      "metadata": {
        "id": "IRNwVoEyd6ba"
      },
      "source": [
        "## Learn more"
      ]
    },
    {
      "cell_type": "markdown",
      "metadata": {
        "id": "dAjEBtSbd6ba"
      },
      "source": [
        "There are a lot of resources online to learn more about using NumPy and other libraries. Just for kicks, here we use IPython's feature for embedding videos to point you to a short video on YouTube on using NumPy arrays."
      ]
    },
    {
      "cell_type": "code",
      "metadata": {
        "id": "tvq3xXJnd6ba",
        "outputId": "aab4d9c9-3b07-4d4f-94df-638a0ae25067"
      },
      "source": [
        "from IPython.display import YouTubeVideo\n",
        "YouTubeVideo('vWkb7VahaXQ')"
      ],
      "execution_count": null,
      "outputs": [
        {
          "output_type": "execute_result",
          "data": {
            "image/jpeg": "[encoded data removed]",
            "text/html": [
              "\n",
              "        <iframe\n",
              "            width=\"400\"\n",
              "            height=\"300\"\n",
              "            src=\"https://www.youtube.com/embed/vWkb7VahaXQ\"\n",
              "            frameborder=\"0\"\n",
              "            allowfullscreen\n",
              "        ></iframe>\n",
              "        "
            ],
            "text/plain": [
              "<IPython.lib.display.YouTubeVideo at 0x22c097cc5c0>"
            ]
          },
          "metadata": {
            "tags": []
          },
          "execution_count": 2
        }
      ]
    },
    {
      "cell_type": "code",
      "metadata": {
        "id": "8VzApZqud6ba"
      },
      "source": [
        ""
      ],
      "execution_count": null,
      "outputs": []
    }
  ]
}