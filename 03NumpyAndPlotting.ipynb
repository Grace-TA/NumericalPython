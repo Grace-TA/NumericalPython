{
 "cells": [
  {
   "cell_type": "markdown",
   "metadata": {
    "colab_type": "text",
    "id": "view-in-github"
   },
   "source": [
    "<a href=\"https://colab.research.google.com/github/weymouth/NumericalPython/blob/main/03NumpyAndPlotting.ipynb\" target=\"_parent\"><img src=\"https://colab.research.google.com/assets/colab-badge.svg\" alt=\"Open In Colab\"/></a>\n",
    "\n",
    "\n",
    "# Numerical Python and Plotting\n",
    "\n",
    "We have established the main features of Python, but up to this point we have only created simple functions and applied them to create lists of numbers. Even for simple tasks like this, the programming approach is **highly** preferred to using spreadsheets (like `Excel`) which are [extremely dangerous to use for important work](https://www.forbes.com/sites/timworstall/2013/02/13/microsofts-excel-might-be-the-most-dangerous-software-on-the-planet/?sh=536d1fa0633d). Well documented spreadsheet errors have led to catastrophes in [business](https://www.marketwatch.com/story/88-of-spreadsheets-have-errors-2013-04-17), [economic policy](https://www.bloomberg.com/news/articles/2013-04-18/faq-reinhart-rogoff-and-the-excel-error-that-changed-history) and [healthcare](https://www.theguardian.com/politics/2020/oct/05/how-excel-may-have-caused-loss-of-16000-covid-tests-in-england). This is because:\n",
    "1. Spreadsheets *hide their methodology* behind the data. This makes it extremely difficult to transfer methods to new data and to find errors. In contrast, a program *is* the methodology, making testing and reproduction much easier.  \n",
    "1. Spreadsheets are not extensible. Their available numerical methods make them inappropriate for any advanced engineering analysis.\n",
    "\n",
    "In contrast we can easily extend the base-language of Python for arbitrarily advanced numerical work. We only need to import some additional libraries to address key issues with the base-language:\n",
    " - There are no built-in data structures for arrays, matrices, and tables (unlike, say, `Matlab` or `Julia`).\n",
    " - Using lists of `float` numbers is generally very slow and lacks useful built-in features like matrix multiplication.\n",
    " - There is no built-in method to visualize data in plots.\n",
    "\n",
    "This notebook will introduce the `NumPy` and `PyPlot` libraries to address these issues."
   ]
  },
  {
   "cell_type": "markdown",
   "metadata": {
    "id": "ivbCdFpECLl8"
   },
   "source": [
    "# NumPy\n",
    "\n",
    "The numerical python, or [NumPy](https://numpy.org/), library enables fast and simple numerical methods in Python. To starting using this library (or any other) we need to use a new python keyword `import`:"
   ]
  },
  {
   "cell_type": "code",
   "execution_count": null,
   "metadata": {
    "id": "NMoD8fv_B_J3"
   },
   "outputs": [],
   "source": [
    "import numpy as np # importing numpy"
   ]
  },
  {
   "cell_type": "markdown",
   "metadata": {},
   "source": [
    "This gives us access to all the methods and functions in `NumPy` using the short name `np`. \n",
    "\n",
    "There are [far too many](https://numpy.org/doc/stable/reference/routines.html) new methods available to go through in this introduction, but most can be grouped into a few basic categories\n",
    "\n",
    "| Category       | Sub module   | Description                                                 |\n",
    "|----------------|--------------|-------------------------------------------------------------|\n",
    "| math           | numpy        | Scientific operations like $\\sqrt{a},\\log(a),\\sin(a)$, etc |\n",
    "| arrays         | numpy        | Array and matrix creation, and array operations like multiplication |\n",
    "| linear algebra | numpy.linalg | Matrix decomposition and solving linear systems |\n",
    "| fft            | numpy.fft    | Discrete Fourier Transform (of many types) and their inverse |\n",
    "| random sampling| numpy.random | Sample from different random variable distributions |\n",
    "\n",
    "<span style=\"display:none\"></span>\n",
    "\n",
    "Notice we use the `np.*` notation to access things inside NumPy. Just as an example let see what is in the `numpy.random` submodule."
   ]
  },
  {
   "cell_type": "code",
   "execution_count": null,
   "metadata": {},
   "outputs": [],
   "source": [
    "print(\"it contains methods such as...\",dir(np.random)[30:])"
   ]
  },
  {
   "cell_type": "markdown",
   "metadata": {},
   "source": [
    "Let's get help on one of those..."
   ]
  },
  {
   "cell_type": "code",
   "execution_count": null,
   "metadata": {},
   "outputs": [],
   "source": [
    "?np.random.randint"
   ]
  },
  {
   "cell_type": "markdown",
   "metadata": {},
   "source": [
    "All NumPy functions are really documented like this, including examples. Using this function we can generate a sample of what might happen if we, say, roll a 20 sided-dice 4 times."
   ]
  },
  {
   "cell_type": "code",
   "execution_count": null,
   "metadata": {},
   "outputs": [],
   "source": [
    "samples = np.random.randint(20,size=4)\n",
    "samples"
   ]
  },
  {
   "cell_type": "markdown",
   "metadata": {},
   "source": [
    "Every time you run this code, the result will be different. Try it!\n",
    "\n",
    "Also, note that `samples` is a new type called `array`. This is the building block for everything in NumPy. The easiest way to make arrays from scratch is to pass a list (or a list of lists) to `np.array`."
   ]
  },
  {
   "cell_type": "code",
   "execution_count": null,
   "metadata": {},
   "outputs": [],
   "source": [
    "r_array = np.array(range(4))\n",
    "r_matrix = np.array([[1,2],[3,4],[5,6]])\n",
    "print(r_array)\n",
    "print(r_matrix)"
   ]
  },
  {
   "cell_type": "markdown",
   "metadata": {},
   "source": [
    "All the functions will work on arrays, just like they would for numbers. Guess what these statements will print before running:"
   ]
  },
  {
   "cell_type": "code",
   "execution_count": null,
   "metadata": {},
   "outputs": [],
   "source": [
    "np.set_printoptions(precision=3)   # This sets numpy printing precision \n",
    "np.set_printoptions(suppress=True) # Don't use scientific notation by default\n",
    "print(np.sqrt(9))\n",
    "print(np.sqrt(r_array))\n",
    "print(np.log(np.e))\n",
    "print(np.log(samples))\n",
    "print(np.sin(np.pi/2))\n",
    "print(np.sin(r_matrix*np.pi/4))"
   ]
  },
  {
   "cell_type": "markdown",
   "metadata": {},
   "source": [
    "Notice that NumPy defines some important constants like $e,\\pi$ that we can use as well. \n",
    "\n",
    "More importantly, notice that we didn't need to use a list comprehension to create these new arrays. This is called _operator broadcasting_ (or vectorizing); the operation is applied to each element in the array or matrix individually. This wouldn't work for lists"
   ]
  },
  {
   "cell_type": "code",
   "execution_count": null,
   "metadata": {},
   "outputs": [],
   "source": [
    "print(2.*r_array-samples)\n",
    "#print(2.*[0,1,2,3]-[10,5,11,2])"
   ]
  },
  {
   "cell_type": "markdown",
   "metadata": {},
   "source": [
    "There are also a number of operations that only make sense to apply to arrays vectors and matrices:"
   ]
  },
  {
   "cell_type": "code",
   "execution_count": null,
   "metadata": {},
   "outputs": [],
   "source": [
    "a = np.array([1,0])\n",
    "b = np.array([4,5])\n",
    "print(r_matrix.T)    # transpose\n",
    "print(r_matrix @ a)  # matrix multiplication\n",
    "print(np.inner(a,b)) # inner product\n",
    "print(np.cross(a,b)) # cross product"
   ]
  },
  {
   "cell_type": "markdown",
   "metadata": {},
   "source": [
    "Looping and slicing works on arrays just like it did on lists. It also works on matrices (and higher dimensional arrays), but there are more options"
   ]
  },
  {
   "cell_type": "code",
   "execution_count": null,
   "metadata": {},
   "outputs": [],
   "source": [
    "for x in r_array:\n",
    "    print(x)\n",
    "print('')\n",
    "print(r_array[-2:])"
   ]
  },
  {
   "cell_type": "code",
   "execution_count": null,
   "metadata": {},
   "outputs": [],
   "source": [
    "for row in r_matrix: # row by row\n",
    "    print(row)\n",
    "    for element in row: # element by element\n",
    "        print(element)\n",
    "print('')\n",
    "print(r_matrix[0,0]) # first element\n",
    "print(r_matrix[0])   # first row\n",
    "print(r_matrix[:,0]) # first column"
   ]
  },
  {
   "cell_type": "markdown",
   "metadata": {},
   "source": [
    "As an example let's create a few functions to rotate a point $p$ in 2D space by an angle $q$ around the origin."
   ]
  },
  {
   "cell_type": "code",
   "execution_count": null,
   "metadata": {},
   "outputs": [],
   "source": [
    "def rotation_matrix(q):\n",
    "    return np.array([[np.cos(q),-np.sin(q)],\n",
    "                     [np.sin(q), np.cos(q)]])\n",
    "\n",
    "def rotate_point(p,q):\n",
    "    return rotation_matrix(q) @ p\n",
    "\n",
    "a = np.array([1,1])\n",
    "for q in np.linspace(0,np.pi,9):\n",
    "    print(\"q={:.3g} rad, new p={}\".format(q,rotate_point(a,q)))"
   ]
  },
  {
   "cell_type": "markdown",
   "metadata": {},
   "source": [
    "The `numpy.linspace` function makes an array numbers across a range, equally spaced.\n",
    "\n",
    "The new `rotate_point` function seems to have worked but it is a little hard to tell... \n",
    "\n",
    "# PyPlot\n",
    "\n",
    "Even for the previous simple example, it would be much easier to check the results if we could plot them. [Matplotlib](https://matplotlib.org/) is the most developed plotting library in python. `Matplotlib.PyPlot` are a collection of functions to make plot copied after the popular Matplot interface."
   ]
  },
  {
   "cell_type": "code",
   "execution_count": null,
   "metadata": {},
   "outputs": [],
   "source": [
    "from matplotlib import pyplot as plt   # import plotting library"
   ]
  },
  {
   "cell_type": "markdown",
   "metadata": {},
   "source": [
    "Note this `from-import` syntax lets you pick specific submodules or even specific functions to import. This can help with code readability. \n",
    "\n",
    "A a first example, let's just plot $\\sqrt{x}$ from $x=0...1$"
   ]
  },
  {
   "cell_type": "code",
   "execution_count": null,
   "metadata": {},
   "outputs": [],
   "source": [
    "x = np.linspace(0,1)    # array of x values\n",
    "plt.plot(x,np.sqrt(x))  # plot x vs it's sqrt\n",
    "plt.xlabel('x')         # label x-axis\n",
    "plt.ylabel('$\\sqrt{x}$',rotation=0) # label y-axis (don't rotate it)\n",
    "plt.show()              # show the plot"
   ]
  },
  {
   "cell_type": "markdown",
   "metadata": {},
   "source": [
    "This example shows that you can control pretty much everything in PyPlot, the trick is to just build the figure up one element at a time. \n",
    "\n",
    "Lets use PyPlot to test the `rotate_point` function above. We'll exactly the same loop as before, but instead of printing, we will add each rotated point to a scatter plot."
   ]
  },
  {
   "cell_type": "code",
   "execution_count": null,
   "metadata": {},
   "outputs": [],
   "source": [
    "for q in np.linspace(0,np.pi,9):\n",
    "    x,y = rotate_point(a,q)\n",
    "    plt.scatter(x,y,label='q={:.3g}'.format(q)) # plot point and assign label\n",
    "plt.legend()               # show legend\n",
    "plt.xlabel('x')            # label x-axis\n",
    "plt.ylabel('y',rotation=0) # label y-axis (don't rotate it)\n",
    "plt.axis('equal')          # scale the x,y axis equally \n",
    "plt.show()                 # show the plot"
   ]
  },
  {
   "cell_type": "markdown",
   "metadata": {},
   "source": [
    "The points form a half-circle starting from our original point $a=[1,1]$, visually confirming that the `rotate_point` function is working. \n",
    "\n",
    "Finally, let's develop a function to create a polar plot of a given function."
   ]
  },
  {
   "cell_type": "code",
   "execution_count": null,
   "metadata": {},
   "outputs": [],
   "source": [
    "def polar_plot(func,q=np.linspace(0,2*np.pi)):\n",
    "    r = func(q)                # evaluate the function on q array\n",
    "    plt.plot(r*np.cos(q),r*np.sin(q)) # compute and plot x,y arrays\n",
    "    plt.xlabel('x')            # label x-axis\n",
    "    plt.ylabel('y',rotation=0) # label y-axis (don't rotate it)\n",
    "    plt.axis('equal')          # scale the x,y axis equally \n",
    "    plt.show()                 # show the plot\n",
    "\n",
    "def cardiod(q): return 2*(1-np.cos(q))\n",
    "polar_plot(cardiod)"
   ]
  },
  {
   "cell_type": "markdown",
   "metadata": {},
   "source": [
    "Notice the function `polar_plot` doesn't `return` anything - it just `show`s a plot. It also takes in another function as an argument. This is common enough in Python that there is a `lambda` syntax to create functions _in-place_ instead of giving the function a name and then using it."
   ]
  },
  {
   "cell_type": "code",
   "execution_count": null,
   "metadata": {},
   "outputs": [],
   "source": [
    "polar_plot(lambda q: q/np.pi) # anonymous function to make a spiral"
   ]
  },
  {
   "cell_type": "markdown",
   "metadata": {},
   "source": [
    "The `lambda` syntax is very handy when doing more advanced analysis like function optimization, root-finding, integration, etc.\n",
    "\n",
    "\n",
    "# Failure Modeling Example\n",
    "\n",
    "Let's finish with an engineering simulation. Let's model the potential failure of a fuel oil pump using a simplistic model. \n",
    "\n",
    "First we'll model the pressure upstream of the pump as a random walk: at each time step the pressure can go up, down or stay constant with equal probability. We could do this one random step at a time, but it is faster to generate all the steps at once, and then add them together."
   ]
  },
  {
   "cell_type": "code",
   "execution_count": null,
   "metadata": {},
   "outputs": [],
   "source": [
    "def pressure_walk(n_steps):\n",
    "    pressure_steps = np.random.randint(-1,2,size=n_steps)\n",
    "    return np.cumsum(pressure_steps) # cumulative summation of the steps\n",
    "\n",
    "for i in range(5):\n",
    "    plt.plot(pressure_walk(200))\n",
    "plt.xlabel('time'); plt.ylabel('pressure')\n",
    "plt.show()"
   ]
  },
  {
   "cell_type": "markdown",
   "metadata": {},
   "source": [
    "Notice the cumulative summation function to get the signal from the steps. The plot shows 5 random pressure histories and every time you run the block above the histories will change.\n",
    "\n",
    "Now let's think about the FO pump. A pump only has a finite range of operation - if the pressure is too low, the pump will immediately stop working. So lets write a function to check if the pump fails, given a pressure signal. Again, we could do this one step at a time, but it is much faster to look at the whole signal at once:\n",
    "1. Create an array which is True where `pressure<=lower` and false elsewhere.\n",
    "1. Find the first time (if any) where this is True using the `np.argmax` function (since `True~1>False~0`)."
   ]
  },
  {
   "cell_type": "code",
   "execution_count": null,
   "metadata": {},
   "outputs": [],
   "source": [
    "def pump_failure(pressure,lower=-15):\n",
    "    return np.argmax(pressure<=lower)  # function returns zero when missing\n",
    "\n",
    "pressure_test = np.zeros(10) # zero array for testing\n",
    "i = np.random.randint(1,11)  # pick a failure time\n",
    "pressure_test[i:] = -20      # replace test values after this time \n",
    "print(pressure_test)\n",
    "print(\"Failure time = {}\".format(pump_failure(pressure_test)))\n",
    "assert(i==pump_failure(pressure_test))\n",
    "print(\"Test passed!\")"
   ]
  },
  {
   "cell_type": "markdown",
   "metadata": {},
   "source": [
    "The code below the function is a test to see if the function is working properly. Writing tests helps ensure your program is correct. The `assert` function throws an error is the test fails:"
   ]
  },
  {
   "cell_type": "code",
   "execution_count": null,
   "metadata": {},
   "outputs": [],
   "source": [
    "# assert(1==2)"
   ]
  },
  {
   "cell_type": "markdown",
   "metadata": {},
   "source": [
    "Finally, we can use these two function to get a feeling for how quickly our pump is likely to fail. Let's run our code a few thousand times and plot the results as a histogram. "
   ]
  },
  {
   "cell_type": "code",
   "execution_count": null,
   "metadata": {},
   "outputs": [],
   "source": [
    "n_runs = 10000\n",
    "n_steps = 1000\n",
    "failure_data = [pump_failure(pressure_walk(n_steps)) for i in range(n_runs)]\n",
    "plt.hist(failure_data,bins=range(1,n_steps,10))\n",
    "plt.xlabel('time of pump failure'); plt.ylabel('number of failures')\n",
    "plt.show();"
   ]
  },
  {
   "cell_type": "markdown",
   "metadata": {},
   "source": [
    "We see that most failure happen between 100 and 200 time steps, but there is a \"long tail\" of pumps that last much much longer. \n",
    "\n",
    "## Additional exercises\n",
    "\n",
    "1. Our random walk function isn't very realistic. Find a function in the `numpy.random` submodule to generate steps from a Gaussian distribution instead. How does this change the signals and the failure results?\n",
    "1. A pump can also fail if it is exposed to excessively high pressure for too long and becomes damaged. Write a function to return the accumulated time the pump spends above a threshold value."
   ]
  },
  {
   "cell_type": "code",
   "execution_count": null,
   "metadata": {},
   "outputs": [],
   "source": []
  }
 ],
 "metadata": {
  "colab": {
   "authorship_tag": "ABX9TyPPRJif4V4H6mucN5PMLqW1",
   "include_colab_link": true,
   "name": "03NumpyAndPlotting.ipynb",
   "provenance": []
  },
  "kernelspec": {
   "display_name": "Python 3",
   "language": "python",
   "name": "python3"
  },
  "language_info": {
   "codemirror_mode": {
    "name": "ipython",
    "version": 3
   },
   "file_extension": ".py",
   "mimetype": "text/x-python",
   "name": "python",
   "nbconvert_exporter": "python",
   "pygments_lexer": "ipython3",
   "version": "3.6.10"
  }
 },
 "nbformat": 4,
 "nbformat_minor": 1
}
