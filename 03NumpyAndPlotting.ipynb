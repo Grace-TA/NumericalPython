{
 "cells": [
  {
   "cell_type": "markdown",
   "metadata": {
    "colab_type": "text",
    "id": "view-in-github"
   },
   "source": [
    "<a href=\"https://colab.research.google.com/github/weymouth/NumericalPython/blob/main/03NumpyAndPlotting.ipynb\" target=\"_parent\"><img src=\"https://colab.research.google.com/assets/colab-badge.svg\" alt=\"Open In Colab\"/></a>\n",
    "\n",
    "\n",
    "# Numerical Python and Plotting\n",
    "\n",
    "We have established the main features of Python, but up to this point we have only created simple functions and applied them to create lists of numbers. Even for simple tasks like this, the programming approach is **highly** preferred to using spreadsheets (like `Excel`) which are [extremely dangerous to use for important work](https://www.forbes.com/sites/timworstall/2013/02/13/microsofts-excel-might-be-the-most-dangerous-software-on-the-planet/?sh=536d1fa0633d). Well documented spreadsheet errors have led to catastrophes in [business](https://www.marketwatch.com/story/88-of-spreadsheets-have-errors-2013-04-17), [economic policy](https://www.bloomberg.com/news/articles/2013-04-18/faq-reinhart-rogoff-and-the-excel-error-that-changed-history) and [healthcare](https://www.theguardian.com/politics/2020/oct/05/how-excel-may-have-caused-loss-of-16000-covid-tests-in-england). This is because:\n",
    "1. Spreadsheets *hide their methodology* behind the data. This makes it extremely difficult to transfer methods to new data and to find errors. In contrast, a program *is* the methodology, making testing and reproduction much easier.  \n",
    "1. Spreadsheets are not extensible. Their available numerical methods make them inappropriate for any advanced engineering analysis.\n",
    "\n",
    "In contrast we can easily extend the base-language of Python for arbitrarily advanced numerical work. We only need to import some additional libraries to address key issues with the base-language:\n",
    " - There are no built-in data structures for arrays, matrices, and tables (unlike, say, `Matlab` or `Julia`).\n",
    " - Using lists of `float` numbers is generally very slow and lacks useful built-in features like matrix multiplication.\n",
    " - There is no built-in method to visualize data in plots.\n",
    "\n",
    "This notebook will introduce the `NumPy` and `PyPlot` libraries to address these issues."
   ]
  },
  {
   "cell_type": "markdown",
   "metadata": {
    "id": "ivbCdFpECLl8"
   },
   "source": [
    "# NumPy\n",
    "\n",
    "The numerical python, or [NumPy](https://numpy.org/), library enables fast and simple numerical methods in Python. To starting using this library (or any other) we need to use a new python keyword `import`:"
   ]
  },
  {
   "cell_type": "code",
   "execution_count": 1,
   "metadata": {
    "id": "NMoD8fv_B_J3"
   },
   "outputs": [],
   "source": [
    "import numpy as np"
   ]
  },
  {
   "cell_type": "markdown",
   "metadata": {},
   "source": [
    "This gives us access to all the methods and functions in `NumPy` using the short name `np`. \n",
    "\n",
    "There are [far too many](https://numpy.org/doc/stable/reference/routines.html) new methods available to go through in this introduction, but most can be grouped into a few basic categories\n",
    "\n",
    "| Category       | Sub module   | Description                                                 |\n",
    "|----------------|--------------|-------------------------------------------------------------|\n",
    "| math           | numpy        | Scientific operations like $\\sqrt{a},\\log(a),\\sin(a)$, etc  |\n",
    "| arrays         | numpy        | Array and matrix creation, and array operations like multiplication |\n",
    "| linear algebra | numpy.linalg | Matrix decomposition and solving linear systems             |\n",
    "| fft            | numpy.fft    | Discrete Fourier Transform (of many type) and their inverse |\n",
    "| random sampling| numpy.random | Create samples from different random variable distributions |\n",
    "\n",
    "<span style=\"display:none\"></span>\n",
    "\n",
    "Notice we use the `np.*` notation to access things inside NumPy. Just as an example let see what is in the `numpy.random` submodule."
   ]
  },
  {
   "cell_type": "code",
   "execution_count": 2,
   "metadata": {},
   "outputs": [
    {
     "name": "stdout",
     "output_type": "stream",
     "text": [
      "it contains methods such as... ['binomial', 'bytes', 'chisquare', 'choice', 'default_rng', 'dirichlet', 'division', 'exponential', 'f', 'gamma', 'geometric', 'get_state', 'gumbel', 'hypergeometric', 'laplace', 'logistic', 'lognormal', 'logseries', 'mtrand', 'multinomial', 'multivariate_normal', 'negative_binomial', 'noncentral_chisquare', 'noncentral_f', 'normal', 'pareto', 'permutation', 'poisson', 'power', 'print_function', 'rand', 'randint', 'randn', 'random', 'random_integers', 'random_sample', 'ranf', 'rayleigh', 'sample', 'seed', 'set_state', 'shuffle', 'standard_cauchy', 'standard_exponential', 'standard_gamma', 'standard_normal', 'standard_t', 'test', 'triangular', 'uniform', 'vonmises', 'wald', 'weibull', 'zipf']\n"
     ]
    }
   ],
   "source": [
    "print(\"it contains methods such as...\",dir(np.random)[30:])"
   ]
  },
  {
   "cell_type": "markdown",
   "metadata": {},
   "source": [
    "Let's get help on one of those..."
   ]
  },
  {
   "cell_type": "code",
   "execution_count": 3,
   "metadata": {},
   "outputs": [],
   "source": [
    "?np.random.randint"
   ]
  },
  {
   "cell_type": "markdown",
   "metadata": {},
   "source": [
    "All NumPy functions are really documented like this, including examples. Using this function we can generate a sample of what might happen if we, say, roll a 20 sided-dice 4 times."
   ]
  },
  {
   "cell_type": "code",
   "execution_count": 4,
   "metadata": {},
   "outputs": [
    {
     "data": {
      "text/plain": [
       "array([ 9, 13, 11, 10])"
      ]
     },
     "execution_count": 4,
     "metadata": {},
     "output_type": "execute_result"
    }
   ],
   "source": [
    "samples = np.random.randint(20,size=4)\n",
    "samples"
   ]
  },
  {
   "cell_type": "markdown",
   "metadata": {},
   "source": [
    "Every time you run this code, the result will be different. Try it!\n",
    "\n",
    "Also, note that `samples` is a new type called `array`. This is the building block for everything in NumPy. The easiest way to make arrays from scratch is to pass a list (or a list of lists) to `np.array`."
   ]
  },
  {
   "cell_type": "code",
   "execution_count": 14,
   "metadata": {},
   "outputs": [
    {
     "name": "stdout",
     "output_type": "stream",
     "text": [
      "[0 1 2 3]\n",
      "[[1 2]\n",
      " [3 4]\n",
      " [5 6]]\n"
     ]
    }
   ],
   "source": [
    "r_array = np.array(range(4))\n",
    "r_matrix = np.array([[1,2],[3,4],[5,6]])\n",
    "print(r_array)\n",
    "print(r_matrix)"
   ]
  },
  {
   "cell_type": "markdown",
   "metadata": {},
   "source": [
    "All the functions will work on arrays, just like they would for numbers. Guess what these statements will print before running:"
   ]
  },
  {
   "cell_type": "code",
   "execution_count": 6,
   "metadata": {},
   "outputs": [
    {
     "name": "stdout",
     "output_type": "stream",
     "text": [
      "3.0\n",
      "[0.    1.    1.414 1.732]\n",
      "1.0\n",
      "[2.197 2.565 2.398 2.303]\n",
      "1.0\n",
      "[[ 0.707  1.   ]\n",
      " [ 0.707  0.   ]\n",
      " [-0.707 -1.   ]]\n"
     ]
    }
   ],
   "source": [
    "np.set_printoptions(precision=3)   # This sets numpy printing precision \n",
    "np.set_printoptions(suppress=True) # Don't use scientific notation by default\n",
    "print(np.sqrt(9))\n",
    "print(np.sqrt(r_array))\n",
    "print(np.log(np.e))\n",
    "print(np.log(samples))\n",
    "print(np.sin(np.pi/2))\n",
    "print(np.sin(r_matrix*np.pi/4))"
   ]
  },
  {
   "cell_type": "markdown",
   "metadata": {},
   "source": [
    "Notice that NumPy defines some important constants like $e,\\pi$ that we can use as well. \n",
    "\n",
    "More importantly, notice that we didn't need to use a list comprehension to create these new arrays. This is called _operator broadcasting_ (or vectorizing); the operation is applied to each element in the array or matrix individually. This wouldn't work for lists"
   ]
  },
  {
   "cell_type": "code",
   "execution_count": 7,
   "metadata": {},
   "outputs": [
    {
     "name": "stdout",
     "output_type": "stream",
     "text": [
      "[ -9. -11.  -7.  -4.]\n"
     ]
    },
    {
     "ename": "TypeError",
     "evalue": "can't multiply sequence by non-int of type 'float'",
     "output_type": "error",
     "traceback": [
      "\u001b[1;31m---------------------------------------------------------------------------\u001b[0m",
      "\u001b[1;31mTypeError\u001b[0m                                 Traceback (most recent call last)",
      "\u001b[1;32m<ipython-input-7-9a596f28c5b3>\u001b[0m in \u001b[0;36m<module>\u001b[1;34m\u001b[0m\n\u001b[0;32m      1\u001b[0m \u001b[0mprint\u001b[0m\u001b[1;33m(\u001b[0m\u001b[1;36m2.\u001b[0m\u001b[1;33m*\u001b[0m\u001b[0mr_array\u001b[0m\u001b[1;33m-\u001b[0m\u001b[0msamples\u001b[0m\u001b[1;33m)\u001b[0m\u001b[1;33m\u001b[0m\u001b[1;33m\u001b[0m\u001b[0m\n\u001b[1;32m----> 2\u001b[1;33m \u001b[1;36m2.\u001b[0m\u001b[1;33m*\u001b[0m\u001b[1;33m[\u001b[0m\u001b[1;36m0\u001b[0m\u001b[1;33m,\u001b[0m\u001b[1;36m1\u001b[0m\u001b[1;33m,\u001b[0m\u001b[1;36m2\u001b[0m\u001b[1;33m,\u001b[0m\u001b[1;36m3\u001b[0m\u001b[1;33m]\u001b[0m\u001b[1;33m-\u001b[0m\u001b[1;33m[\u001b[0m\u001b[1;36m10\u001b[0m\u001b[1;33m,\u001b[0m\u001b[1;36m5\u001b[0m\u001b[1;33m,\u001b[0m\u001b[1;36m11\u001b[0m\u001b[1;33m,\u001b[0m\u001b[1;36m2\u001b[0m\u001b[1;33m]\u001b[0m\u001b[1;33m\u001b[0m\u001b[1;33m\u001b[0m\u001b[0m\n\u001b[0m",
      "\u001b[1;31mTypeError\u001b[0m: can't multiply sequence by non-int of type 'float'"
     ]
    }
   ],
   "source": [
    "print(2.*r_array-samples)\n",
    "2.*[0,1,2,3]-[10,5,11,2]"
   ]
  },
  {
   "cell_type": "markdown",
   "metadata": {},
   "source": [
    "There are also a number of operations that only make sense to apply to arrays vectors and matrices:"
   ]
  },
  {
   "cell_type": "code",
   "execution_count": 8,
   "metadata": {},
   "outputs": [
    {
     "name": "stdout",
     "output_type": "stream",
     "text": [
      "[[1 3 5]\n",
      " [2 4 6]]\n",
      "[1 3 5]\n",
      "4\n",
      "5\n"
     ]
    }
   ],
   "source": [
    "a = np.array([1,0])\n",
    "b = np.array([4,5])\n",
    "print(r_matrix.T)    # transpose\n",
    "print(r_matrix @ a)  # matrix multiplication\n",
    "print(np.inner(a,b)) # inner product\n",
    "print(np.cross(a,b)) # cross product"
   ]
  },
  {
   "cell_type": "markdown",
   "metadata": {},
   "source": [
    "Looping and slicing works on arrays just like it did on lists. It also works on matrices (and higher dimensional arrays), but there are more options"
   ]
  },
  {
   "cell_type": "code",
   "execution_count": 9,
   "metadata": {},
   "outputs": [
    {
     "name": "stdout",
     "output_type": "stream",
     "text": [
      "0\n",
      "1\n",
      "2\n",
      "3\n",
      "\n",
      "[2 3]\n"
     ]
    }
   ],
   "source": [
    "for x in r_array:\n",
    "    print(x)\n",
    "print('')\n",
    "print(r_array[-2:])"
   ]
  },
  {
   "cell_type": "code",
   "execution_count": 10,
   "metadata": {},
   "outputs": [
    {
     "name": "stdout",
     "output_type": "stream",
     "text": [
      "[1 2]\n",
      "1\n",
      "2\n",
      "[3 4]\n",
      "3\n",
      "4\n",
      "[5 6]\n",
      "5\n",
      "6\n",
      "\n",
      "1\n",
      "[1 2]\n",
      "[1 3 5]\n"
     ]
    }
   ],
   "source": [
    "for row in r_matrix: # row by row\n",
    "    print(row)\n",
    "    for element in row: # element by element\n",
    "        print(element)\n",
    "print('')\n",
    "print(r_matrix[0,0]) # first element\n",
    "print(r_matrix[0])   # first row\n",
    "print(r_matrix[:,0]) # first column"
   ]
  },
  {
   "cell_type": "markdown",
   "metadata": {},
   "source": [
    "As an example let's create a few functions to rotate a point $p$ in 2D space by an angle $q$ around the origin."
   ]
  },
  {
   "cell_type": "code",
   "execution_count": 11,
   "metadata": {},
   "outputs": [
    {
     "name": "stdout",
     "output_type": "stream",
     "text": [
      "q=0 rad, new p=[1. 0.]\n",
      "q=0.785 rad, new p=[0.707 0.707]\n",
      "q=1.57 rad, new p=[0. 1.]\n",
      "q=2.36 rad, new p=[-0.707  0.707]\n",
      "q=3.14 rad, new p=[-1.  0.]\n",
      "q=3.93 rad, new p=[-0.707 -0.707]\n",
      "q=4.71 rad, new p=[-0. -1.]\n",
      "q=5.5 rad, new p=[ 0.707 -0.707]\n",
      "q=6.28 rad, new p=[ 1. -0.]\n"
     ]
    }
   ],
   "source": [
    "def rotationMatrix(q):\n",
    "    return np.array([[np.cos(q),-np.sin(q)],\n",
    "                     [np.sin(q), np.cos(q)]])\n",
    "\n",
    "def rotatePoint(p,q):\n",
    "    return rotationMatrix(q) @ p\n",
    "\n",
    "for q in np.linspace(0,2*np.pi,9):\n",
    "    print(\"q={:.3g} rad, new p={}\".format(q,rotatePoint(a,q)))"
   ]
  },
  {
   "cell_type": "markdown",
   "metadata": {},
   "source": [
    "The `numpy.linspace` function makes an array numbers across a range, equally spaced.\n",
    "\n",
    "The `rotatePoint` seems to have worked but it is a little hard to tell... \n",
    "\n",
    "# PyPlot\n",
    "\n",
    "Even for the previous simple example, it would be much easier to check the results if we could plot them. Luckily, there's a library for that [Matplotlib](https://matplotlib.org/). This is the most developed plotting library in python, and since it was designed using the Matplot interface as a model, it may seem familiar."
   ]
  },
  {
   "cell_type": "code",
   "execution_count": null,
   "metadata": {},
   "outputs": [],
   "source": []
  }
 ],
 "metadata": {
  "colab": {
   "authorship_tag": "ABX9TyPPRJif4V4H6mucN5PMLqW1",
   "include_colab_link": true,
   "name": "03NumpyAndPlotting.ipynb",
   "provenance": []
  },
  "kernelspec": {
   "display_name": "Python 3",
   "language": "python",
   "name": "python3"
  },
  "language_info": {
   "codemirror_mode": {
    "name": "ipython",
    "version": 3
   },
   "file_extension": ".py",
   "mimetype": "text/x-python",
   "name": "python",
   "nbconvert_exporter": "python",
   "pygments_lexer": "ipython3",
   "version": "3.6.10"
  }
 },
 "nbformat": 4,
 "nbformat_minor": 1
}
